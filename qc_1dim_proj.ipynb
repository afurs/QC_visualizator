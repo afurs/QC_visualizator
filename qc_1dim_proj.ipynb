{
 "cells": [
  {
   "cell_type": "code",
   "execution_count": null,
   "id": "174c671c",
   "metadata": {},
   "outputs": [],
   "source": [
    "####################\n",
    "DETECTOR='FV0'\n",
    "TASK='DigitQcTask'\n",
    "STORE_QC_FILES=False\n",
    "####################\n",
    "\n",
    "from qc_processor import qc_processor as qc_proc\n",
    "qc=qc_proc.QC_processor.from_json(det=DETECTOR,task=TASK,keep_files=STORE_QC_FILES,path_cfg='config.json',do_init=True)\n",
    "\n",
    "%jsroot on\n",
    "from qc_processor import qc_visualizator as qc_gui\n",
    "gui=qc_gui.visualizator(qc)\n",
    "gui.show()"
   ]
  }
 ],
 "metadata": {
  "@webio": {
   "lastCommId": null,
   "lastKernelId": null
  },
  "kernelspec": {
   "display_name": "Python 3",
   "language": "python",
   "name": "python3"
  },
  "language_info": {
   "codemirror_mode": {
    "name": "ipython",
    "version": 3
   },
   "file_extension": ".py",
   "mimetype": "text/x-python",
   "name": "python",
   "nbconvert_exporter": "python",
   "pygments_lexer": "ipython3",
   "version": "3.6.9"
  }
 },
 "nbformat": 4,
 "nbformat_minor": 5
}
